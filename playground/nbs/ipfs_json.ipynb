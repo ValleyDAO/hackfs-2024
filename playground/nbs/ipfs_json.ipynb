{
 "cells": [
  {
   "cell_type": "code",
   "execution_count": 4,
   "metadata": {},
   "outputs": [],
   "source": [
    "import ipfshttpclient\n",
    "import os\n",
    "import json\n",
    "import openai\n",
    "from dotenv import load_dotenv\n",
    "\n",
    "load_dotenv()\n",
    "\n",
    "from enum import Enum\n",
    "from pydantic import BaseModel\n",
    "from typing import List, Optional"
   ]
  },
  {
   "cell_type": "code",
   "execution_count": 5,
   "metadata": {},
   "outputs": [],
   "source": [
    "def add_json_ipfs(json_object):\n",
    "    u = \"/dns/provider.tekti.net/tcp/31861/http\"\n",
    "    client = ipfshttpclient.connect(u)\n",
    "    return client.add_json(json_object)\n",
    "\n",
    "def get_json_ipfs(ipfs_hash):\n",
    "    u = \"/dns/provider.tekti.net/tcp/31861/http\"\n",
    "    client = ipfshttpclient.connect(u)\n",
    "    json_str = client.cat(ipfs_hash)\n",
    "    return json.loads(json_str)"
   ]
  },
  {
   "cell_type": "code",
   "execution_count": 6,
   "metadata": {},
   "outputs": [],
   "source": [
    "class NodeType(str, Enum):\n",
    "    technology = \"technology\"\n",
    "    sub_field = \"sub_field\"\n",
    "    application = \"application\"\n",
    "    component = \"component\"\n",
    "    standard = \"standard\"\n",
    "    research = \"research\"\n",
    "    methodology = \"methodology\"\n",
    "    tool = \"tool\"\n",
    "    organization = \"organization\"\n",
    "    person = \"person\"\n",
    "    event = \"event\"\n",
    "    concept = \"concept\"\n",
    "    framework = \"framework\"\n",
    "    project = \"project\"\n",
    "\n",
    "class NodeInfo(BaseModel):\n",
    "    node_id: str\n",
    "    name: str\n",
    "    description: str\n",
    "    node_type: NodeType\n",
    "\n",
    "class NodeScopeSection(BaseModel):\n",
    "    research_scope: Optional[List[str]] = None\n",
    "    scope_description: Optional[str] = None\n",
    "    scope_references: Optional[List[str]] = None\n",
    "\n",
    "class NodeContributionSection(BaseModel):\n",
    "    problem_statement: Optional[str] = None\n",
    "    research_scope: Optional[str] = None\n",
    "    background_information: Optional[str] = None\n",
    "    objectives: Optional[List[str]] = None\n",
    "    methodology: Optional[List[str]] = None\n",
    "    expected_outcome: Optional[List[str]] = None\n",
    "    key_findings: Optional[List[str]] = None\n",
    "    conclusion: Optional[str] = None\n",
    "    future_works: Optional[List[str]] = None\n",
    "    references: Optional[List[str]] = None\n",
    "\n",
    "class NodeJson(BaseModel):\n",
    "    node_info: NodeInfo\n",
    "    scope_section: NodeScopeSection\n",
    "    contribution_section: NodeContributionSection"
   ]
  },
  {
   "cell_type": "markdown",
   "metadata": {},
   "source": [
    "### New node"
   ]
  },
  {
   "cell_type": "code",
   "execution_count": 7,
   "metadata": {},
   "outputs": [],
   "source": [
    "node_info = NodeInfo(\n",
    "    node_id=\"1\",\n",
    "    name=\"CRISPR-Cas9\",\n",
    "    description=\"CRISPR-Cas9 is a revolutionary gene-editing technology that allows for precise modifications to DNA. It has broad applications in medicine, agriculture, and research.\",\n",
    "    node_type=NodeType.technology\n",
    ")\n",
    "\n",
    "scope_section = NodeScopeSection(\n",
    "    research_scope=[\"Gene editing\", \"Genetic therapy\", \"Agricultural biotechnology\"],\n",
    "    scope_description=\"CRISPR-Cas9 research covers various domains including gene editing techniques, therapeutic applications for genetic disorders, and advancements in agricultural biotechnology.\",\n",
    "    scope_references=[\"Jinek, M. et al. (2012). A Programmable Dual-RNA–Guided DNA Endonuclease in Adaptive Bacterial Immunity. Science.\",\n",
    "                        \"Doudna, J. A., & Charpentier, E. (2014). The new frontier of genome engineering with CRISPR-Cas9. Science.\"]\n",
    ")\n",
    "\n",
    "contribution_section = NodeContributionSection(\n",
    "    problem_statement=\"The need for precise, efficient, and affordable gene-editing tools to advance genetic research and therapy.\",\n",
    "    research_scope=\"Investigate the mechanisms, applications, and ethical considerations of CRISPR-Cas9 technology in various fields including medicine, agriculture, and biotechnology.\",\n",
    "    background_information=\"CRISPR-Cas9 was discovered as a part of the immune system in bacteria, which use it to fend off viruses. The system was adapted for gene-editing in 2012, allowing for targeted modifications to genomes.\",\n",
    "    objectives=[\n",
    "        \"1. To develop reliable CRISPR-Cas9 based tools for gene editing.\", \n",
    "        \"2. To explore therapeutic applications for genetic disorders.\", \n",
    "        \"3. To assess the ethical implications of gene editing.\"\n",
    "    ],\n",
    "    methodology=[\n",
    "        \"1. Isolate CRISPR-Cas9 components.\", \n",
    "        \"2. Design guide RNA sequences specific to target genes.\", \n",
    "        \"3. Deliver the CRISPR-Cas9 complex into cells.\", \n",
    "        \"4. Validate gene modifications through sequencing and functional assays.\", \n",
    "        \"5. Enhanced delivery mechanisms for CRISPR-Cas9 complexes were developed, focusing on nanoparticle-based delivery systems to improve in vivo targeting efficiency and reduce off-target effects.\"\n",
    "    ],\n",
    "    expected_outcome=[\n",
    "        \"Development of robust gene-editing protocols\", \n",
    "        \"potential treatments for genetic diseases\", \n",
    "        \"a better understanding of gene function and regulation.\"\n",
    "    ],\n",
    "    key_findings=[\n",
    "        \"CRISPR-Cas9 can effectively target and modify specific DNA sequences with high precision.\", \n",
    "        \"Off-target effects are a concern and are being addressed through various approaches.\",\n",
    "    ],\n",
    "    conclusion=\"CRISPR-Cas9 has transformed the field of genetics, offering unprecedented control over DNA modifications. Ongoing research is addressing its limitations and expanding its applications.\",\n",
    "    future_works=[\"1. Improve the accuracy and efficiency of CRISPR-Cas9.\", \n",
    "                  \"2. Develop delivery systems for in vivo applications.\", \n",
    "                  \"3. Explore the use of CRISPR for epigenetic modifications.\"\n",
    "    ],\n",
    "    references=[\"Jinek, M. et al. (2012). A Programmable Dual-RNA–Guided DNA Endonuclease in Adaptive Bacterial Immunity. Science.\",\n",
    "                 \"Doudna, J. A., & Charpentier, E. (2014). The new frontier of genome engineering with CRISPR-Cas9. Science.\"]\n",
    ")\n",
    "\n",
    "crispr_node = NodeJson(\n",
    "    node_info=node_info,\n",
    "    scope_section=scope_section,\n",
    "    contribution_section=contribution_section\n",
    ")"
   ]
  },
  {
   "cell_type": "code",
   "execution_count": 8,
   "metadata": {},
   "outputs": [
    {
     "name": "stdout",
     "output_type": "stream",
     "text": [
      "{'node_info': {'node_id': '1', 'name': 'CRISPR-Cas9', 'description': 'CRISPR-Cas9 is a revolutionary gene-editing technology that allows for precise modifications to DNA. It has broad applications in medicine, agriculture, and research.', 'node_type': <NodeType.technology: 'technology'>}, 'scope_section': {'research_scope': ['Gene editing', 'Genetic therapy', 'Agricultural biotechnology'], 'scope_description': 'CRISPR-Cas9 research covers various domains including gene editing techniques, therapeutic applications for genetic disorders, and advancements in agricultural biotechnology.', 'scope_references': ['Jinek, M. et al. (2012). A Programmable Dual-RNA–Guided DNA Endonuclease in Adaptive Bacterial Immunity. Science.', 'Doudna, J. A., & Charpentier, E. (2014). The new frontier of genome engineering with CRISPR-Cas9. Science.']}, 'contribution_section': {'problem_statement': 'The need for precise, efficient, and affordable gene-editing tools to advance genetic research and therapy.', 'research_scope': 'Investigate the mechanisms, applications, and ethical considerations of CRISPR-Cas9 technology in various fields including medicine, agriculture, and biotechnology.', 'background_information': 'CRISPR-Cas9 was discovered as a part of the immune system in bacteria, which use it to fend off viruses. The system was adapted for gene-editing in 2012, allowing for targeted modifications to genomes.', 'objectives': ['1. To develop reliable CRISPR-Cas9 based tools for gene editing.', '2. To explore therapeutic applications for genetic disorders.', '3. To assess the ethical implications of gene editing.'], 'methodology': ['1. Isolate CRISPR-Cas9 components.', '2. Design guide RNA sequences specific to target genes.', '3. Deliver the CRISPR-Cas9 complex into cells.', '4. Validate gene modifications through sequencing and functional assays.', '5. Enhanced delivery mechanisms for CRISPR-Cas9 complexes were developed, focusing on nanoparticle-based delivery systems to improve in vivo targeting efficiency and reduce off-target effects.'], 'expected_outcome': ['Development of robust gene-editing protocols', 'potential treatments for genetic diseases', 'a better understanding of gene function and regulation.'], 'key_findings': ['CRISPR-Cas9 can effectively target and modify specific DNA sequences with high precision.', 'Off-target effects are a concern and are being addressed through various approaches.'], 'conclusion': 'CRISPR-Cas9 has transformed the field of genetics, offering unprecedented control over DNA modifications. Ongoing research is addressing its limitations and expanding its applications.', 'future_works': ['1. Improve the accuracy and efficiency of CRISPR-Cas9.', '2. Develop delivery systems for in vivo applications.', '3. Explore the use of CRISPR for epigenetic modifications.'], 'references': ['Jinek, M. et al. (2012). A Programmable Dual-RNA–Guided DNA Endonuclease in Adaptive Bacterial Immunity. Science.', 'Doudna, J. A., & Charpentier, E. (2014). The new frontier of genome engineering with CRISPR-Cas9. Science.']}}\n"
     ]
    }
   ],
   "source": [
    "print(crispr_node.model_dump())"
   ]
  },
  {
   "cell_type": "code",
   "execution_count": 9,
   "metadata": {},
   "outputs": [
    {
     "name": "stdout",
     "output_type": "stream",
     "text": [
      "Qmd1SMEYuSxWZht9mKpgRJX2nZvwKqJLfJL73Wd9UEGDRt\n"
     ]
    }
   ],
   "source": [
    "ipfs_hash_initial = add_json_ipfs(crispr_node.model_dump())\n",
    "print(ipfs_hash_initial)"
   ]
  },
  {
   "cell_type": "code",
   "execution_count": 10,
   "metadata": {},
   "outputs": [
    {
     "data": {
      "text/plain": [
       "NodeJson(node_info=NodeInfo(node_id='1', name='CRISPR-Cas9', description='CRISPR-Cas9 is a revolutionary gene-editing technology that allows for precise modifications to DNA. It has broad applications in medicine, agriculture, and research.', node_type=<NodeType.technology: 'technology'>), scope_section=NodeScopeSection(research_scope=['Gene editing', 'Genetic therapy', 'Agricultural biotechnology'], scope_description='CRISPR-Cas9 research covers various domains including gene editing techniques, therapeutic applications for genetic disorders, and advancements in agricultural biotechnology.', scope_references=['Jinek, M. et al. (2012). A Programmable Dual-RNA–Guided DNA Endonuclease in Adaptive Bacterial Immunity. Science.', 'Doudna, J. A., & Charpentier, E. (2014). The new frontier of genome engineering with CRISPR-Cas9. Science.']), contribution_section=NodeContributionSection(problem_statement='The need for precise, efficient, and affordable gene-editing tools to advance genetic research and therapy.', research_scope='Investigate the mechanisms, applications, and ethical considerations of CRISPR-Cas9 technology in various fields including medicine, agriculture, and biotechnology.', background_information='CRISPR-Cas9 was discovered as a part of the immune system in bacteria, which use it to fend off viruses. The system was adapted for gene-editing in 2012, allowing for targeted modifications to genomes.', objectives=['1. To develop reliable CRISPR-Cas9 based tools for gene editing.', '2. To explore therapeutic applications for genetic disorders.', '3. To assess the ethical implications of gene editing.'], methodology=['1. Isolate CRISPR-Cas9 components.', '2. Design guide RNA sequences specific to target genes.', '3. Deliver the CRISPR-Cas9 complex into cells.', '4. Validate gene modifications through sequencing and functional assays.', '5. Enhanced delivery mechanisms for CRISPR-Cas9 complexes were developed, focusing on nanoparticle-based delivery systems to improve in vivo targeting efficiency and reduce off-target effects.'], expected_outcome=['Development of robust gene-editing protocols', 'potential treatments for genetic diseases', 'a better understanding of gene function and regulation.'], key_findings=['CRISPR-Cas9 can effectively target and modify specific DNA sequences with high precision.', 'Off-target effects are a concern and are being addressed through various approaches.'], conclusion='CRISPR-Cas9 has transformed the field of genetics, offering unprecedented control over DNA modifications. Ongoing research is addressing its limitations and expanding its applications.', future_works=['1. Improve the accuracy and efficiency of CRISPR-Cas9.', '2. Develop delivery systems for in vivo applications.', '3. Explore the use of CRISPR for epigenetic modifications.'], references=['Jinek, M. et al. (2012). A Programmable Dual-RNA–Guided DNA Endonuclease in Adaptive Bacterial Immunity. Science.', 'Doudna, J. A., & Charpentier, E. (2014). The new frontier of genome engineering with CRISPR-Cas9. Science.']))"
      ]
     },
     "execution_count": 10,
     "metadata": {},
     "output_type": "execute_result"
    }
   ],
   "source": [
    "retrieved_node_json = get_json_ipfs(ipfs_hash_initial)\n",
    "retrieved_crispr_node = NodeJson.model_validate(retrieved_node_json)\n",
    "retrieved_crispr_node"
   ]
  },
  {
   "cell_type": "markdown",
   "metadata": {},
   "source": [
    "### New node"
   ]
  },
  {
   "cell_type": "code",
   "execution_count": 12,
   "metadata": {},
   "outputs": [],
   "source": [
    "new_contribution_section = NodeContributionSection(\n",
    "    problem_statement=\"The need for precise, efficient, and affordable gene-editing tools to advance genetic research and therapy.\",\n",
    "    research_scope=\"Investigate the mechanisms, applications, and ethical considerations of CRISPR-Cas9 technology in various fields including medicine, agriculture, and biotechnology.\",\n",
    "    background_information=\"CRISPR-Cas9 was discovered as a part of the immune system in bacteria, which use it to fend off viruses. The system was adapted for gene-editing in 2012, allowing for targeted modifications to genomes.\",\n",
    "    objectives=[\n",
    "        \"1. To develop reliable CRISPR-Cas9 based tools for gene editing.\", \n",
    "        \"2. To explore therapeutic applications for genetic disorders.\", \n",
    "        \"3. To assess the ethical implications of gene editing.\",\n",
    "        \"4. To develop a scalable manufacturing process for CRISPR components, making the technology more accessible for large-scale applications in agriculture and industry.\",\n",
    "        \"5. To introduce advanced computational models to predict off-target effects and optimize guide RNA design, significantly improving the specificity of CRISPR-Cas9 edits.\"\n",
    "    ],\n",
    "    methodology=[\n",
    "        \"1. Isolate CRISPR-Cas9 components.\", \n",
    "        \"2. Design guide RNA sequences specific to target genes.\", \n",
    "        \"3. Deliver the CRISPR-Cas9 complex into cells.\", \n",
    "        \"4. Validate gene modifications through sequencing and functional assays.\", \n",
    "        \"5. Enhanced delivery mechanisms for CRISPR-Cas9 complexes were developed, focusing on nanoparticle-based delivery systems to improve in vivo targeting efficiency and reduce off-target effects.\"\n",
    "    ],\n",
    "    expected_outcome=[\n",
    "        \"Development of robust gene-editing protocols\", \n",
    "        \"potential treatments for genetic diseases\", \n",
    "        \"a better understanding of gene function and regulation.\"\n",
    "    ],\n",
    "    key_findings=[\n",
    "        \"CRISPR-Cas9 can effectively target and modify specific DNA sequences with high precision.\", \n",
    "        \"Off-target effects are a concern and are being addressed through various approaches.\", \n",
    "        \"Introduced advanced computational models to predict off-target effects and optimize guide RNA design, significantly improving the specificity of CRISPR-Cas9 edits.\",\n",
    "        \"Developed a scalable manufacturing process for CRISPR components, making the technology more accessible for large-scale applications in agriculture and industry.\",\n",
    "        \"Conducted extensive ethical reviews and proposed guidelines for the responsible use of CRISPR technology in human germline editing, balancing innovation with ethical considerations.\"\n",
    "    ],\n",
    "    conclusion=\"CRISPR-Cas9 has transformed the field of genetics, offering unprecedented control over DNA modifications. Ongoing research is addressing its limitations and expanding its applications. Conducted extensive ethical reviews and proposed guidelines for the responsible use of CRISPR technology in human germline editing, balancing innovation with ethical considerations.\",\n",
    "    future_works=[\n",
    "        \"1. Improve the accuracy and efficiency of CRISPR-Cas9.\", \n",
    "        \"2. Develop delivery systems for in vivo applications.\", \n",
    "        \"3. Explore the use of CRISPR for epigenetic modifications. Discovered a new application of CRISPR-Cas9 for epigenetic modifications, enabling precise control over gene expression without altering the DNA sequence.\",\n",
    "        \"4. Develop nanoparticle-based delivery systems for CRISPR-Cas9.\",\n",
    "        \"5. Explore the use of CRISPR for epigenetic modifications. Discovered a new application of CRISPR-Cas9 for epigenetic modifications, enabling precise control over gene expression without altering the DNA sequence.\"\n",
    "    ],\n",
    "    references=[\n",
    "        \"Jinek, M. et al. (2012). A Programmable Dual-RNA–Guided DNA Endonuclease in Adaptive Bacterial Immunity. Science.\",\n",
    "        \"Doudna, J. A., & Charpentier, E. (2014). The new frontier of genome engineering with CRISPR-Cas9. Science.\",\n",
    "        \"Smith, J. et al. (2023). Nanoparticle-based delivery systems for CRISPR-Cas9. Nature Biotechnology.\",\n",
    "        \"Doe, J. et al. (2023). Ethical guidelines for human germline editing using CRISPR-Cas9. Bioethics Journal.\",\n",
    "        \"Turing, A. et al. (2023). Computational models for optimizing CRISPR guide RNA specificity. Computational Biology.\",\n",
    "        \"Curie, M. et al. (2023). Epigenetic modifications using CRISPR-Cas9. Genetic Research.\",\n",
    "        \"Tesla, N. et al. (2023). Scalable manufacturing of CRISPR components. Industrial Biotechnology.\"\n",
    "    ]\n",
    ")\n",
    "\n",
    "new_crispr_node = NodeJson(\n",
    "    node_info=node_info,\n",
    "    scope_section=scope_section,\n",
    "    contribution_section=new_contribution_section\n",
    ")"
   ]
  },
  {
   "cell_type": "code",
   "execution_count": 13,
   "metadata": {},
   "outputs": [
    {
     "name": "stdout",
     "output_type": "stream",
     "text": [
      "QmV3Hezh8UQv8X6K3UNPWdHQe3cukBn8j9oC47qHzAja5V\n"
     ]
    }
   ],
   "source": [
    "ipfs_hash_new = add_json_ipfs(new_crispr_node.model_dump())\n",
    "print(ipfs_hash_new)"
   ]
  },
  {
   "cell_type": "code",
   "execution_count": 14,
   "metadata": {},
   "outputs": [
    {
     "data": {
      "text/plain": [
       "NodeJson(node_info=NodeInfo(node_id='1', name='CRISPR-Cas9', description='CRISPR-Cas9 is a revolutionary gene-editing technology that allows for precise modifications to DNA. It has broad applications in medicine, agriculture, and research.', node_type=<NodeType.technology: 'technology'>), scope_section=NodeScopeSection(research_scope=['Gene editing', 'Genetic therapy', 'Agricultural biotechnology'], scope_description='CRISPR-Cas9 research covers various domains including gene editing techniques, therapeutic applications for genetic disorders, and advancements in agricultural biotechnology.', scope_references=['Jinek, M. et al. (2012). A Programmable Dual-RNA–Guided DNA Endonuclease in Adaptive Bacterial Immunity. Science.', 'Doudna, J. A., & Charpentier, E. (2014). The new frontier of genome engineering with CRISPR-Cas9. Science.']), contribution_section=NodeContributionSection(problem_statement='The need for precise, efficient, and affordable gene-editing tools to advance genetic research and therapy.', research_scope='Investigate the mechanisms, applications, and ethical considerations of CRISPR-Cas9 technology in various fields including medicine, agriculture, and biotechnology.', background_information='CRISPR-Cas9 was discovered as a part of the immune system in bacteria, which use it to fend off viruses. The system was adapted for gene-editing in 2012, allowing for targeted modifications to genomes.', objectives=['1. To develop reliable CRISPR-Cas9 based tools for gene editing.', '2. To explore therapeutic applications for genetic disorders.', '3. To assess the ethical implications of gene editing.', '4. To develop a scalable manufacturing process for CRISPR components, making the technology more accessible for large-scale applications in agriculture and industry.', '5. To introduce advanced computational models to predict off-target effects and optimize guide RNA design, significantly improving the specificity of CRISPR-Cas9 edits.'], methodology=['1. Isolate CRISPR-Cas9 components.', '2. Design guide RNA sequences specific to target genes.', '3. Deliver the CRISPR-Cas9 complex into cells.', '4. Validate gene modifications through sequencing and functional assays.', '5. Enhanced delivery mechanisms for CRISPR-Cas9 complexes were developed, focusing on nanoparticle-based delivery systems to improve in vivo targeting efficiency and reduce off-target effects.'], expected_outcome=['Development of robust gene-editing protocols', 'potential treatments for genetic diseases', 'a better understanding of gene function and regulation.'], key_findings=['CRISPR-Cas9 can effectively target and modify specific DNA sequences with high precision.', 'Off-target effects are a concern and are being addressed through various approaches.', 'Introduced advanced computational models to predict off-target effects and optimize guide RNA design, significantly improving the specificity of CRISPR-Cas9 edits.', 'Developed a scalable manufacturing process for CRISPR components, making the technology more accessible for large-scale applications in agriculture and industry.', 'Conducted extensive ethical reviews and proposed guidelines for the responsible use of CRISPR technology in human germline editing, balancing innovation with ethical considerations.'], conclusion='CRISPR-Cas9 has transformed the field of genetics, offering unprecedented control over DNA modifications. Ongoing research is addressing its limitations and expanding its applications. Conducted extensive ethical reviews and proposed guidelines for the responsible use of CRISPR technology in human germline editing, balancing innovation with ethical considerations.', future_works=['1. Improve the accuracy and efficiency of CRISPR-Cas9.', '2. Develop delivery systems for in vivo applications.', '3. Explore the use of CRISPR for epigenetic modifications. Discovered a new application of CRISPR-Cas9 for epigenetic modifications, enabling precise control over gene expression without altering the DNA sequence.', '4. Develop nanoparticle-based delivery systems for CRISPR-Cas9.', '5. Explore the use of CRISPR for epigenetic modifications. Discovered a new application of CRISPR-Cas9 for epigenetic modifications, enabling precise control over gene expression without altering the DNA sequence.'], references=['Jinek, M. et al. (2012). A Programmable Dual-RNA–Guided DNA Endonuclease in Adaptive Bacterial Immunity. Science.', 'Doudna, J. A., & Charpentier, E. (2014). The new frontier of genome engineering with CRISPR-Cas9. Science.', 'Smith, J. et al. (2023). Nanoparticle-based delivery systems for CRISPR-Cas9. Nature Biotechnology.', 'Doe, J. et al. (2023). Ethical guidelines for human germline editing using CRISPR-Cas9. Bioethics Journal.', 'Turing, A. et al. (2023). Computational models for optimizing CRISPR guide RNA specificity. Computational Biology.', 'Curie, M. et al. (2023). Epigenetic modifications using CRISPR-Cas9. Genetic Research.', 'Tesla, N. et al. (2023). Scalable manufacturing of CRISPR components. Industrial Biotechnology.']))"
      ]
     },
     "execution_count": 14,
     "metadata": {},
     "output_type": "execute_result"
    }
   ],
   "source": [
    "retrieved_new_node_json = get_json_ipfs(ipfs_hash_new)\n",
    "retrieved_new_crispr_node = NodeJson.model_validate(retrieved_new_node_json)\n",
    "retrieved_new_crispr_node"
   ]
  },
  {
   "cell_type": "markdown",
   "metadata": {},
   "source": [
    "### verify contribution"
   ]
  },
  {
   "cell_type": "code",
   "execution_count": 15,
   "metadata": {},
   "outputs": [],
   "source": [
    "system_prompt = \"\"\"\n",
    "You are a world class researcher. \n",
    "There are many researchers working under you.\n",
    "For every research topic, the researchers add their contribution to a common doc.\n",
    "One of your most important job is to identify, if the contribution is sufficient or not\n",
    "\"\"\"\n",
    "\n",
    "user_prompt = \"\"\"\n",
    "Here is the research_focus the contributors are working towards: {research_focus}\n",
    "Here is the original contribution_section: {original_contribution_section}\n",
    "Here is the new contribution_section: {new_contribution_section}\n",
    "\n",
    "<INSTRUCTIONS>\n",
    "Please study original contribution section and the new contribution section.\n",
    "Contribution should be significant\n",
    "What is not significant contribution\n",
    "    - correcting only grammatical errors\n",
    "    - correcting formatting\n",
    "    - correcting spelling\n",
    "    - adding unrelated information to the topic or research focus\n",
    "    - removing information from the original contribution section\n",
    "What is significant contribution\n",
    "    - adding new information to the original contribution section\n",
    "    - addressing the research focus in the new contribution section\n",
    "Your response should be a yes or no answer. \"yes\" if the new contribution is significant, \"no\" if the new contribution is not significant.\n",
    "If the new contribution is significant, please provide a brief explanation of the new contribution.\n",
    "</INSTRUCTIONS>\n",
    "\n",
    "<ANSWER>\n",
    "# yes or no\n",
    "</ANSWER>\n",
    "\n",
    "<REASON>\n",
    "# reason for yes or no\n",
    "</REASON>\n",
    "\"\"\"\n",
    "\n",
    "\n",
    "def verify_contribution(\n",
    "    research_focus, \n",
    "    original_contribution_section, \n",
    "    new_contribution_section\n",
    "):\n",
    "    client = openai.OpenAI(api_key=os.getenv(\"OPENAI_API_KEY\"))\n",
    "    messages = [\n",
    "        {\n",
    "            \"role\": \"system\", \n",
    "            \"content\": system_prompt},\n",
    "        {\"role\": \"user\", \n",
    "         \"content\": user_prompt.format(\n",
    "             research_focus=research_focus, \n",
    "             original_contribution_section=original_contribution_section, \n",
    "             new_contribution_section=new_contribution_section)\n",
    "        }\n",
    "    ]\n",
    "\n",
    "    response = client.chat.completions.create(\n",
    "        model=\"gpt-4o\",\n",
    "        messages=messages,\n",
    "        temperature=0.0,\n",
    "    )\n",
    "    return parse_answer(response.choices[0].message.content)\n",
    "\n",
    "def parse_answer(response):\n",
    "    answer = response.split(\"<ANSWER>\")[1].split(\"</ANSWER>\")[0].strip()\n",
    "    reason = response.split(\"<REASON>\")[1].split(\"</REASON>\")[0].strip()\n",
    "    return answer, reason\n",
    "\n",
    "\n",
    "research_focus = retrieved_crispr_node.scope_section.model_dump_json()\n",
    "original_contribution_section = crispr_node.contribution_section.model_dump_json()\n",
    "new_contribution_section = retrieved_new_crispr_node.contribution_section.model_dump_json()\n",
    "\n",
    "answer, reason = verify_contribution(research_focus, original_contribution_section, new_contribution_section)"
   ]
  },
  {
   "cell_type": "code",
   "execution_count": 16,
   "metadata": {},
   "outputs": [
    {
     "data": {
      "text/plain": [
       "'yes'"
      ]
     },
     "execution_count": 16,
     "metadata": {},
     "output_type": "execute_result"
    }
   ],
   "source": [
    "answer"
   ]
  },
  {
   "cell_type": "code",
   "execution_count": 17,
   "metadata": {},
   "outputs": [
    {
     "data": {
      "text/plain": [
       "'The new contribution is significant because it adds substantial new information to the original contribution section. Specifically, it introduces new objectives such as developing a scalable manufacturing process for CRISPR components and advanced computational models to predict off-target effects. Additionally, it expands the key findings with the development of scalable manufacturing processes and ethical guidelines for human germline editing. The new references also support these additions, indicating that the new contributions are well-researched and relevant to the research focus. These enhancements address the research focus and provide a more comprehensive understanding of CRISPR-Cas9 technology and its applications.'"
      ]
     },
     "execution_count": 17,
     "metadata": {},
     "output_type": "execute_result"
    }
   ],
   "source": [
    "reason"
   ]
  },
  {
   "cell_type": "markdown",
   "metadata": {},
   "source": [
    "### using galadriel to validate"
   ]
  },
  {
   "cell_type": "code",
   "execution_count": 18,
   "metadata": {},
   "outputs": [],
   "source": [
    "galadriel_prompt_template = \"\"\"\n",
    "You are a world class researcher. \n",
    "There are many researchers working under you.\n",
    "For every research topic, the researchers add their contribution to a common doc.\n",
    "One of your most important job is to identify, if the contribution is sufficient or not\n",
    "\n",
    "Here is the research_focus the contributors are working towards: {research_focus}\n",
    "Here is the original contribution_section: {original_contribution_section}\n",
    "Here is the new contribution_section: {new_contribution_section}\n",
    "\n",
    "<INSTRUCTIONS>\n",
    "Please study original contribution section and the new contribution section.\n",
    "Contribution should be significant\n",
    "What is not significant contribution\n",
    "    - correcting only grammatical errors\n",
    "    - correcting formatting\n",
    "    - correcting spelling\n",
    "    - adding unrelated information to the topic or research focus\n",
    "    - removing information from the original contribution section\n",
    "What is significant contribution\n",
    "    - adding new information to the original contribution section\n",
    "    - addressing the research focus in the new contribution section\n",
    "Your response should be a yes or no answer. \"yes\" if the new contribution is significant, \"no\" if the new contribution is not significant.\n",
    "If the new contribution is significant, please provide a brief explanation of the new contribution.\n",
    "</INSTRUCTIONS>\n",
    "\n",
    "<ANSWER>\n",
    "# yes or no\n",
    "</ANSWER>\n",
    "\n",
    "<REASON>\n",
    "# reason for yes or no\n",
    "</REASON>\n",
    "\"\"\""
   ]
  },
  {
   "cell_type": "code",
   "execution_count": 19,
   "metadata": {},
   "outputs": [
    {
     "data": {
      "text/plain": [
       "'\\nYou are a world class researcher. \\nThere are many researchers working under you.\\nFor every research topic, the researchers add their contribution to a common doc.\\nOne of your most important job is to identify, if the contribution is sufficient or not\\n\\nHere is the research_focus the contributors are working towards: {\"research_scope\":[\"Gene editing\",\"Genetic therapy\",\"Agricultural biotechnology\"],\"scope_description\":\"CRISPR-Cas9 research covers various domains including gene editing techniques, therapeutic applications for genetic disorders, and advancements in agricultural biotechnology.\",\"scope_references\":[\"Jinek, M. et al. (2012). A Programmable Dual-RNA–Guided DNA Endonuclease in Adaptive Bacterial Immunity. Science.\",\"Doudna, J. A., & Charpentier, E. (2014). The new frontier of genome engineering with CRISPR-Cas9. Science.\"]}\\nHere is the original contribution_section: {\"problem_statement\":\"The need for precise, efficient, and affordable gene-editing tools to advance genetic research and therapy.\",\"research_scope\":\"Investigate the mechanisms, applications, and ethical considerations of CRISPR-Cas9 technology in various fields including medicine, agriculture, and biotechnology.\",\"background_information\":\"CRISPR-Cas9 was discovered as a part of the immune system in bacteria, which use it to fend off viruses. The system was adapted for gene-editing in 2012, allowing for targeted modifications to genomes.\",\"objectives\":[\"1. To develop reliable CRISPR-Cas9 based tools for gene editing.\",\"2. To explore therapeutic applications for genetic disorders.\",\"3. To assess the ethical implications of gene editing.\"],\"methodology\":[\"1. Isolate CRISPR-Cas9 components.\",\"2. Design guide RNA sequences specific to target genes.\",\"3. Deliver the CRISPR-Cas9 complex into cells.\",\"4. Validate gene modifications through sequencing and functional assays.\",\"5. Enhanced delivery mechanisms for CRISPR-Cas9 complexes were developed, focusing on nanoparticle-based delivery systems to improve in vivo targeting efficiency and reduce off-target effects.\"],\"expected_outcome\":[\"Development of robust gene-editing protocols\",\"potential treatments for genetic diseases\",\"a better understanding of gene function and regulation.\"],\"key_findings\":[\"CRISPR-Cas9 can effectively target and modify specific DNA sequences with high precision.\",\"Off-target effects are a concern and are being addressed through various approaches.\"],\"conclusion\":\"CRISPR-Cas9 has transformed the field of genetics, offering unprecedented control over DNA modifications. Ongoing research is addressing its limitations and expanding its applications.\",\"future_works\":[\"1. Improve the accuracy and efficiency of CRISPR-Cas9.\",\"2. Develop delivery systems for in vivo applications.\",\"3. Explore the use of CRISPR for epigenetic modifications.\"],\"references\":[\"Jinek, M. et al. (2012). A Programmable Dual-RNA–Guided DNA Endonuclease in Adaptive Bacterial Immunity. Science.\",\"Doudna, J. A., & Charpentier, E. (2014). The new frontier of genome engineering with CRISPR-Cas9. Science.\"]}\\nHere is the new contribution_section: {\"problem_statement\":\"The need for precise, efficient, and affordable gene-editing tools to advance genetic research and therapy.\",\"research_scope\":\"Investigate the mechanisms, applications, and ethical considerations of CRISPR-Cas9 technology in various fields including medicine, agriculture, and biotechnology.\",\"background_information\":\"CRISPR-Cas9 was discovered as a part of the immune system in bacteria, which use it to fend off viruses. The system was adapted for gene-editing in 2012, allowing for targeted modifications to genomes.\",\"objectives\":[\"1. To develop reliable CRISPR-Cas9 based tools for gene editing.\",\"2. To explore therapeutic applications for genetic disorders.\",\"3. To assess the ethical implications of gene editing.\",\"4. To develop a scalable manufacturing process for CRISPR components, making the technology more accessible for large-scale applications in agriculture and industry.\",\"5. To introduce advanced computational models to predict off-target effects and optimize guide RNA design, significantly improving the specificity of CRISPR-Cas9 edits.\"],\"methodology\":[\"1. Isolate CRISPR-Cas9 components.\",\"2. Design guide RNA sequences specific to target genes.\",\"3. Deliver the CRISPR-Cas9 complex into cells.\",\"4. Validate gene modifications through sequencing and functional assays.\",\"5. Enhanced delivery mechanisms for CRISPR-Cas9 complexes were developed, focusing on nanoparticle-based delivery systems to improve in vivo targeting efficiency and reduce off-target effects.\"],\"expected_outcome\":[\"Development of robust gene-editing protocols\",\"potential treatments for genetic diseases\",\"a better understanding of gene function and regulation.\"],\"key_findings\":[\"CRISPR-Cas9 can effectively target and modify specific DNA sequences with high precision.\",\"Off-target effects are a concern and are being addressed through various approaches.\",\"Introduced advanced computational models to predict off-target effects and optimize guide RNA design, significantly improving the specificity of CRISPR-Cas9 edits.\",\"Developed a scalable manufacturing process for CRISPR components, making the technology more accessible for large-scale applications in agriculture and industry.\",\"Conducted extensive ethical reviews and proposed guidelines for the responsible use of CRISPR technology in human germline editing, balancing innovation with ethical considerations.\"],\"conclusion\":\"CRISPR-Cas9 has transformed the field of genetics, offering unprecedented control over DNA modifications. Ongoing research is addressing its limitations and expanding its applications. Conducted extensive ethical reviews and proposed guidelines for the responsible use of CRISPR technology in human germline editing, balancing innovation with ethical considerations.\",\"future_works\":[\"1. Improve the accuracy and efficiency of CRISPR-Cas9.\",\"2. Develop delivery systems for in vivo applications.\",\"3. Explore the use of CRISPR for epigenetic modifications. Discovered a new application of CRISPR-Cas9 for epigenetic modifications, enabling precise control over gene expression without altering the DNA sequence.\",\"4. Develop nanoparticle-based delivery systems for CRISPR-Cas9.\",\"5. Explore the use of CRISPR for epigenetic modifications. Discovered a new application of CRISPR-Cas9 for epigenetic modifications, enabling precise control over gene expression without altering the DNA sequence.\"],\"references\":[\"Jinek, M. et al. (2012). A Programmable Dual-RNA–Guided DNA Endonuclease in Adaptive Bacterial Immunity. Science.\",\"Doudna, J. A., & Charpentier, E. (2014). The new frontier of genome engineering with CRISPR-Cas9. Science.\",\"Smith, J. et al. (2023). Nanoparticle-based delivery systems for CRISPR-Cas9. Nature Biotechnology.\",\"Doe, J. et al. (2023). Ethical guidelines for human germline editing using CRISPR-Cas9. Bioethics Journal.\",\"Turing, A. et al. (2023). Computational models for optimizing CRISPR guide RNA specificity. Computational Biology.\",\"Curie, M. et al. (2023). Epigenetic modifications using CRISPR-Cas9. Genetic Research.\",\"Tesla, N. et al. (2023). Scalable manufacturing of CRISPR components. Industrial Biotechnology.\"]}\\n\\n<INSTRUCTIONS>\\nPlease study original contribution section and the new contribution section.\\nContribution should be significant\\nWhat is not significant contribution\\n    - correcting only grammatical errors\\n    - correcting formatting\\n    - correcting spelling\\n    - adding unrelated information to the topic or research focus\\n    - removing information from the original contribution section\\nWhat is significant contribution\\n    - adding new information to the original contribution section\\n    - addressing the research focus in the new contribution section\\nYour response should be a yes or no answer. \"yes\" if the new contribution is significant, \"no\" if the new contribution is not significant.\\nIf the new contribution is significant, please provide a brief explanation of the new contribution.\\n</INSTRUCTIONS>\\n\\n<ANSWER>\\n# yes or no\\n</ANSWER>\\n\\n<REASON>\\n# reason for yes or no\\n</REASON>\\n'"
      ]
     },
     "execution_count": 19,
     "metadata": {},
     "output_type": "execute_result"
    }
   ],
   "source": [
    "def get_galadriel_verification(research_focus, original_contribution_section, new_contribution_section):\n",
    "    \n",
    "    galadriel_prompt = galadriel_prompt_template.format(\n",
    "        research_focus=research_focus, \n",
    "        original_contribution_section=original_contribution_section, \n",
    "        new_contribution_section=new_contribution_section\n",
    "    )\n",
    "\n",
    "    return galadriel_prompt\n",
    "\n",
    "\n",
    "p = get_galadriel_verification(research_focus, original_contribution_section, new_contribution_section)\n",
    "p\n",
    "\n"
   ]
  },
  {
   "cell_type": "code",
   "execution_count": null,
   "metadata": {},
   "outputs": [],
   "source": []
  }
 ],
 "metadata": {
  "kernelspec": {
   "display_name": "akash",
   "language": "python",
   "name": "python3"
  },
  "language_info": {
   "codemirror_mode": {
    "name": "ipython",
    "version": 3
   },
   "file_extension": ".py",
   "mimetype": "text/x-python",
   "name": "python",
   "nbconvert_exporter": "python",
   "pygments_lexer": "ipython3",
   "version": "3.10.14"
  }
 },
 "nbformat": 4,
 "nbformat_minor": 2
}
